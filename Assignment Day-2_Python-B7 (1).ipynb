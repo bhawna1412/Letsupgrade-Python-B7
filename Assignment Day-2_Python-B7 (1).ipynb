{
 "cells": [
  {
   "cell_type": "markdown",
   "metadata": {},
   "source": [
    "# List"
   ]
  },
  {
   "cell_type": "code",
   "execution_count": 1,
   "metadata": {},
   "outputs": [
    {
     "name": "stdout",
     "output_type": "stream",
     "text": [
      "[1, 2, 3, 4]\n",
      "[1, 2, 3, 4, 8]\n"
     ]
    }
   ],
   "source": [
    "#append function\n",
    "\n",
    "a = [1,2,3,4]\n",
    "print(a)\n",
    "a.append(8)\n",
    "print(a)"
   ]
  },
  {
   "cell_type": "code",
   "execution_count": 3,
   "metadata": {},
   "outputs": [
    {
     "name": "stdout",
     "output_type": "stream",
     "text": [
      "['new', 'girls', 'heaven', 1, 2, 3, 4]\n"
     ]
    },
    {
     "data": {
      "text/plain": [
       "'heaven'"
      ]
     },
     "execution_count": 3,
     "metadata": {},
     "output_type": "execute_result"
    }
   ],
   "source": [
    "#pop function\n",
    "\n",
    "b = ['new','girls','heaven',1,2,3,4]\n",
    "print(b)\n",
    "b.pop()\n",
    "b.pop(2)"
   ]
  },
  {
   "cell_type": "code",
   "execution_count": 4,
   "metadata": {},
   "outputs": [
    {
     "name": "stdout",
     "output_type": "stream",
     "text": [
      "10\n"
     ]
    }
   ],
   "source": [
    "#length function\n",
    "\n",
    "c = [2,3,4,5,6,6,7,8,9,0]\n",
    "print(len(c))"
   ]
  },
  {
   "cell_type": "code",
   "execution_count": 5,
   "metadata": {},
   "outputs": [
    {
     "name": "stdout",
     "output_type": "stream",
     "text": [
      "[1, 2, 'new', 3, 4, 5, 6]\n"
     ]
    }
   ],
   "source": [
    "#insert function\n",
    "\n",
    "d = [1,2,3,4,5,6]\n",
    "d.insert(2,'new')\n",
    "print(d)"
   ]
  },
  {
   "cell_type": "code",
   "execution_count": 6,
   "metadata": {},
   "outputs": [
    {
     "name": "stdout",
     "output_type": "stream",
     "text": [
      "50\n"
     ]
    }
   ],
   "source": [
    "#sum function\n",
    "\n",
    "f = [2,3,4,5,6,6,7,8,9,0]\n",
    "print(sum(f))"
   ]
  },
  {
   "cell_type": "markdown",
   "metadata": {},
   "source": [
    "# Dictionary"
   ]
  },
  {
   "cell_type": "code",
   "execution_count": 7,
   "metadata": {},
   "outputs": [
    {
     "name": "stdout",
     "output_type": "stream",
     "text": [
      "Name:  bhawna\n",
      "Age:  23\n"
     ]
    }
   ],
   "source": [
    "#get function\n",
    "\n",
    "p = {'name': 'bhawna', 'age': 23}\n",
    "\n",
    "print('Name: ', p.get('name'))\n",
    "print('Age: ', p.get('age'))"
   ]
  },
  {
   "cell_type": "code",
   "execution_count": 8,
   "metadata": {},
   "outputs": [
    {
     "name": "stdout",
     "output_type": "stream",
     "text": [
      "23\n"
     ]
    }
   ],
   "source": [
    "#key function\n",
    "\n",
    "p = {'name': 'bhawna', 'age': 23}\n",
    "print(p['age'])"
   ]
  },
  {
   "cell_type": "code",
   "execution_count": 10,
   "metadata": {},
   "outputs": [
    {
     "name": "stdout",
     "output_type": "stream",
     "text": [
      "The popped element is: 23\n",
      "The dictionary is: {'charul': 27, 'abhishek': 19}\n"
     ]
    }
   ],
   "source": [
    "#pop function\n",
    "\n",
    "age = { 'bhawna': 23, 'charul': 27, 'abhishek': 19 }\n",
    "\n",
    "element = age.pop('bhawna')\n",
    "print('The popped element is:', element)\n",
    "print('The dictionary is:', age)"
   ]
  },
  {
   "cell_type": "code",
   "execution_count": 11,
   "metadata": {},
   "outputs": [
    {
     "name": "stdout",
     "output_type": "stream",
     "text": [
      "dict_items([('apple', 2), ('orange', 3), ('grapes', 4)])\n"
     ]
    }
   ],
   "source": [
    "#items function\n",
    "\n",
    "sales = { 'apple': 2, 'orange': 3, 'grapes': 4 }\n",
    "print(sales.items())"
   ]
  },
  {
   "cell_type": "code",
   "execution_count": 12,
   "metadata": {},
   "outputs": [
    {
     "name": "stdout",
     "output_type": "stream",
     "text": [
      "dict_values([2, 3, 4])\n"
     ]
    }
   ],
   "source": [
    "#values function\n",
    "\n",
    "sales = { 'apple': 2, 'orange': 3, 'grapes': 4 }\n",
    "print(sales.values())"
   ]
  },
  {
   "cell_type": "markdown",
   "metadata": {},
   "source": [
    "# Tuple"
   ]
  },
  {
   "cell_type": "code",
   "execution_count": 14,
   "metadata": {},
   "outputs": [
    {
     "name": "stdout",
     "output_type": "stream",
     "text": [
      "3\n"
     ]
    }
   ],
   "source": [
    "#count function\n",
    "\n",
    "a = (1,2,3,4,4,5,6,7,4)\n",
    "print(a.count(4))"
   ]
  },
  {
   "cell_type": "code",
   "execution_count": 15,
   "metadata": {},
   "outputs": [
    {
     "name": "stdout",
     "output_type": "stream",
     "text": [
      "4\n"
     ]
    }
   ],
   "source": [
    "#index function\n",
    "\n",
    "a = (1,2,3,4,5,6,7)\n",
    "print(a.index(5))"
   ]
  },
  {
   "cell_type": "markdown",
   "metadata": {},
   "source": [
    "# Sets"
   ]
  },
  {
   "cell_type": "code",
   "execution_count": 21,
   "metadata": {},
   "outputs": [
    {
     "name": "stdout",
     "output_type": "stream",
     "text": [
      "h\n"
     ]
    }
   ],
   "source": [
    "#pop function\n",
    "\n",
    "name = {'b', 'h', 'a', 'n','a'}\n",
    "print(name.pop())"
   ]
  },
  {
   "cell_type": "code",
   "execution_count": 23,
   "metadata": {},
   "outputs": [
    {
     "name": "stdout",
     "output_type": "stream",
     "text": [
      "True\n"
     ]
    }
   ],
   "source": [
    "#subset function\n",
    "\n",
    "name = {'b', 'h', 'a', 'n','a'}\n",
    "n1 = {'h','n'}\n",
    "print(n1.issubset(name))"
   ]
  },
  {
   "cell_type": "code",
   "execution_count": 24,
   "metadata": {},
   "outputs": [
    {
     "name": "stdout",
     "output_type": "stream",
     "text": [
      "None\n"
     ]
    }
   ],
   "source": [
    "#remove function\n",
    "\n",
    "regional = {'English', 'hindi', 'arabic'}\n",
    "\n",
    "print(regional.remove('arabic'))"
   ]
  },
  {
   "cell_type": "code",
   "execution_count": 25,
   "metadata": {},
   "outputs": [
    {
     "name": "stdout",
     "output_type": "stream",
     "text": [
      "True\n"
     ]
    }
   ],
   "source": [
    "#disjoint function\n",
    "\n",
    "A = {1, 2, 3, 4}\n",
    "B = {5, 6, 7}\n",
    "\n",
    "print(A.isdisjoint(B))"
   ]
  },
  {
   "cell_type": "code",
   "execution_count": 26,
   "metadata": {},
   "outputs": [
    {
     "name": "stdout",
     "output_type": "stream",
     "text": [
      "{'c', 2, 'd', 'a'}\n"
     ]
    }
   ],
   "source": [
    "#nion function\n",
    "\n",
    "A = {'a', 'c', 'd'}\n",
    "B = {'c', 'd', 2 }\n",
    "print(A.union(B))"
   ]
  },
  {
   "cell_type": "markdown",
   "metadata": {},
   "source": [
    "# Strings"
   ]
  },
  {
   "cell_type": "code",
   "execution_count": 28,
   "metadata": {},
   "outputs": [
    {
     "name": "stdout",
     "output_type": "stream",
     "text": [
      "####old is gold#####\n"
     ]
    }
   ],
   "source": [
    "#center fnction\n",
    "\n",
    "new = \"old is gold\"\n",
    "print(new.center(20, '#'))"
   ]
  },
  {
   "cell_type": "code",
   "execution_count": 30,
   "metadata": {},
   "outputs": [
    {
     "name": "stdout",
     "output_type": "stream",
     "text": [
      "hi everyone!how are you%%%%%\n",
      "*****hi everyone!how are you\n"
     ]
    }
   ],
   "source": [
    "#strip function\n",
    "\n",
    "str = \"*****hi everyone!how are you%%%%%\"\n",
    "print(str.lstrip('*'))\n",
    "print(str.rstrip('%'))"
   ]
  },
  {
   "cell_type": "code",
   "execution_count": 31,
   "metadata": {},
   "outputs": [
    {
     "name": "stdout",
     "output_type": "stream",
     "text": [
      "Hello Monica, your balance is 230.2346.\n"
     ]
    }
   ],
   "source": [
    "#format function\n",
    "\n",
    "print(\"Hello {}, your balance is {}.\".format(\"Monica\", 230.2346))"
   ]
  },
  {
   "cell_type": "code",
   "execution_count": 32,
   "metadata": {},
   "outputs": [
    {
     "name": "stdout",
     "output_type": "stream",
     "text": [
      "2\n"
     ]
    }
   ],
   "source": [
    "#count method\n",
    "\n",
    "str = \"Python is awesome, isn't it?\"\n",
    "sub = \"is\"\n",
    "print(str.count(sub))"
   ]
  },
  {
   "cell_type": "code",
   "execution_count": 33,
   "metadata": {},
   "outputs": [
    {
     "name": "stdout",
     "output_type": "stream",
     "text": [
      "BHAWNA JAYANT\n"
     ]
    }
   ],
   "source": [
    "#upper function\n",
    "\n",
    "s1 = \"bhawna jayant\"\n",
    "print(s1.upper())"
   ]
  },
  {
   "cell_type": "code",
   "execution_count": null,
   "metadata": {},
   "outputs": [],
   "source": []
  }
 ],
 "metadata": {
  "kernelspec": {
   "display_name": "Python 3",
   "language": "python",
   "name": "python3"
  },
  "language_info": {
   "codemirror_mode": {
    "name": "ipython",
    "version": 3
   },
   "file_extension": ".py",
   "mimetype": "text/x-python",
   "name": "python",
   "nbconvert_exporter": "python",
   "pygments_lexer": "ipython3",
   "version": "3.8.3"
  }
 },
 "nbformat": 4,
 "nbformat_minor": 4
}
